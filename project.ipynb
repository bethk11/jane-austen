{
 "cells": [
  {
   "cell_type": "markdown",
   "metadata": {
    "tags": []
   },
   "source": [
    "# 1. Introduction and hypothesis"
   ]
  },
  {
   "cell_type": "markdown",
   "metadata": {},
   "source": [
    "I am a great admirer of Jane Austen's work and have read all her novels. Jane Austen's *Northanger Abbey.* was written to be a direct parody of the popular gothic novels of Austen's time. However, Austen, despite all her critiques of the Regency era novel, also greatly enjoyed reading these novels herself. Kim Wheatley's paper (source: https://www.proquest.com/docview/2433185928/fulltextPDF/FFB93446EE4547AFPQ/1?accountid=10267&sourcetype=Scholarly%20Journals)suggests that in many ways Austen's work does in fact mirror some of the gothic tropes---perhaps Austen is even a sort of \"gothic novelist\" herself. Wheatley argues that these styles enhance Austen's writing, though, giving her characters and scenes realistic emotions and reactions. Since Austen's novels are largely centered on the female protagonist, her writing gives insight into how females are perceived and portrayed during her time. \n",
    "\n",
    "Thus, how different is Austen's writing style from the popular gothic writing style of the time? Through feature extraction and text mining techniques I will explore how closely Austen's writing mirrors the gothic-style writing and obseve whether this largely feminist-lauded writer truly had vastly different expressions from the other popular books of her day. "
   ]
  },
  {
   "cell_type": "markdown",
   "metadata": {},
   "source": [
    "### Imports"
   ]
  },
  {
   "cell_type": "code",
   "execution_count": 235,
   "metadata": {},
   "outputs": [],
   "source": [
    "import os\n",
    "import re\n",
    "import requests\n",
    "from bs4 import BeautifulSoup\n",
    "\n",
    "import pandas as pd\n",
    "import numpy as np\n",
    "import time\n",
    "\n",
    "import string\n",
    "import fileinput\n",
    "\n",
    "import seaborn\n",
    "import matplotlib.pyplot as plt\n",
    "\n",
    "import nltk\n",
    "from nltk.corpus import stopwords, words\n",
    "from nltk.sentiment.vader import SentimentIntensityAnalyzer\n",
    "from nltk.stem import WordNetLemmatizer\n",
    "\n",
    "from sklearn.linear_model import LogisticRegression\n",
    "from sklearn.feature_extraction.text import CountVectorizer\n",
    "from sklearn.feature_extraction.text import TfidfVectorizer\n",
    "from sklearn.preprocessing import StandardScaler\n",
    "from sklearn.decomposition import LatentDirichletAllocation\n",
    "from sklearn.metrics.pairwise import euclidean_distances, cosine_distances, cosine_similarity\n",
    "\n",
    "from collections import Counter\n",
    "from nltk.tokenize import word_tokenize\n",
    "\n",
    "import spacy"
   ]
  },
  {
   "cell_type": "code",
   "execution_count": 2,
   "metadata": {},
   "outputs": [
    {
     "name": "stderr",
     "output_type": "stream",
     "text": [
      "[nltk_data] Downloading package vader_lexicon to\n",
      "[nltk_data]     /Users/bethkam/nltk_data...\n",
      "[nltk_data]   Package vader_lexicon is already up-to-date!\n"
     ]
    },
    {
     "data": {
      "text/plain": [
       "True"
      ]
     },
     "execution_count": 2,
     "metadata": {},
     "output_type": "execute_result"
    }
   ],
   "source": [
    "nltk.download('vader_lexicon')"
   ]
  },
  {
   "cell_type": "markdown",
   "metadata": {},
   "source": [
    "# Corpus and Data"
   ]
  },
  {
   "cell_type": "markdown",
   "metadata": {},
   "source": [
    "The gothic regency novels of Austen are not the most widely-circulated books today. Thus, I decided to focus on the novels of one author who is mentioned several times in Austen's own Northanger Abbey: Ann Radcliffe. Ann Radcliffe is an acclaimed author of her time and regarded to be a pioneer of gothic fiction. Gothic novels were largely considerd to be the lowest level of writing back then, yet Radcliffe was able to elevate gothic fiction to a higher level through her inclusions of original poetry and extensive landscape descriptions (source: https://womensprinthistoryproject.com/blog/post/37). As such, Radcliffe appeared to be an appropriate choice to represent the gothic authors. \n",
    "\n",
    "In order to have a more balanced dataset, I chose six of Radcliffe's novels to build a corpus for Radcliffe while using all six of Austen's novels for an Austen corpus. The Austen novels were all sourced from Project Gutenberg (https://www.gutenberg.org/ebooks/search/?query=Jane+Austen&submit_search=Go%21). Four of Radcliffe's novels were also sourced from Project Gutenberg (https://www.gutenberg.org/ebooks/search/?query=Ann+Radcliffe&submit_search=Go%21) and the remaining two novels were webscraped from this website: https://archive.org/search?query=Ann+radcliffe. Since all these books are quite old, they are all no longer protected by copyright.\n",
    "\n",
    "The datasets created includes the following books:\n",
    "\n",
    "**Jane Austen** \n",
    "* Emma \n",
    "* Mansfield Park \n",
    "* Persuasion \n",
    "* Northanger Abbey \n",
    "* Sense and Sensibility \n",
    "* Persuasion \n",
    "\n",
    "**Ann Radcliffe**\n",
    "* The Castles of Athlin and Dunbayne  \n",
    "* A Sicilian Romance \n",
    "* The Romance of the Forest \n",
    "* The Mysteries of Udolpho \n",
    "* A Journey Made in the Summer of 1794 \n",
    "* The Italian "
   ]
  },
  {
   "cell_type": "markdown",
   "metadata": {},
   "source": [
    "### Load all the Data"
   ]
  },
  {
   "cell_type": "markdown",
   "metadata": {},
   "source": [
    "Here, I will webscrape *The Italian* and *The Castles of Athlin and Dunbayne* since I could not find the books on Project Gutenberg."
   ]
  },
  {
   "cell_type": "code",
   "execution_count": 3,
   "metadata": {},
   "outputs": [],
   "source": [
    "#Code repurposed from INFO 2950 homework, Fall '22, David Mimno and Allison Koenecke \n",
    "def book_scraper(url, book_name):\n",
    "    book_url = url \n",
    "    book_result = requests.get(book_url) \n",
    "    if book_result.status_code != 200: \n",
    "        print(\"Something is very wrong:\", book_result.status_code, book_result.reason) \n",
    "    html_file_path = f'{book_name}.html'\n",
    "    with open(f'{book_name}.html', 'w') as writer: \n",
    "        writer.write(book_result.text.encode('utf8').decode('ascii', 'ignore'))\n",
    "    with open(f'{book_name}.html', \"w\") as writer:\n",
    "        writer.write(book_result.text)\n",
    "    with open(f'{book_name}.html', \"r\") as reader:\n",
    "        html_source = reader.read()\n",
    "    book_page = BeautifulSoup(html_source, \"html.parser\")\n",
    "    full_book = book_page.find_all(\"pre\") \n",
    "\n",
    "    for page in full_book:\n",
    "        pages = page.text\n",
    "    pages = full_book[:7]\n",
    "    scraped_data = str(pages)\n",
    "    with open(f'{book_name}.txt', \"w\", encoding=\"utf-8\") as file:\n",
    "        file.write(scraped_data)\n",
    "    txt_file_path = f'{book_name}.txt'\n",
    "    with open(txt_file_path, \"w\", encoding=\"utf-8\") as file:\n",
    "        file.write(scraped_data)\n",
    "\n",
    "    print(f'Successfully saved HTML to {html_file_path}')\n",
    "    print(f'Successfully saved TXT to {txt_file_path}')"
   ]
  },
  {
   "cell_type": "code",
   "execution_count": 157,
   "metadata": {},
   "outputs": [
    {
     "name": "stdout",
     "output_type": "stream",
     "text": [
      "Successfully saved HTML to italian-1.html\n",
      "Successfully saved TXT to italian-1.txt\n",
      "Successfully saved HTML to italian-2.html\n",
      "Successfully saved TXT to italian-2.txt\n",
      "Successfully saved HTML to italian-3.html\n",
      "Successfully saved TXT to italian-3.txt\n"
     ]
    }
   ],
   "source": [
    "book_scraper(\"https://archive.org/stream/bim_eighteenth-century_the-italian-or-the-conf_radcliffe-ann-ward_1797_1_0/bim_eighteenth-century_the-italian-or-the-conf_radcliffe-ann-ward_1797_1_0_djvu.txt\", \"italian-1\")\n",
    "book_scraper(\"https://archive.org/stream/bim_eighteenth-century_the-italian-or-the-conf_radcliffe-ann-ward_1797_2_0/bim_eighteenth-century_the-italian-or-the-conf_radcliffe-ann-ward_1797_2_0_djvu.txt\", \"italian-2\")\n",
    "book_scraper(\"https://archive.org/stream/bim_eighteenth-century_the-italian-or-the-conf_radcliffe-ann-ward_1797_3_0/bim_eighteenth-century_the-italian-or-the-conf_radcliffe-ann-ward_1797_3_0_djvu.txt\", \"italian-3\")"
   ]
  },
  {
   "cell_type": "code",
   "execution_count": 98,
   "metadata": {},
   "outputs": [
    {
     "name": "stdout",
     "output_type": "stream",
     "text": [
      "Successfully saved HTML to Castles.html\n",
      "Successfully saved TXT to Castles.txt\n"
     ]
    }
   ],
   "source": [
    "book_scraper(\"https://archive.org/stream/bim_eighteenth-century_the-castles-of-athlin-an_radcliffe-ann-ward_1793/bim_eighteenth-century_the-castles-of-athlin-an_radcliffe-ann-ward_1793_djvu.txt\", \"Castles\")"
   ]
  },
  {
   "cell_type": "markdown",
   "metadata": {},
   "source": [
    "During the regency era, novels were in \"volumes.\" Thus, I had to combine the separate volumes for *The Italian* and *The Castles of Athlin and Dunbayne* into two complete books."
   ]
  },
  {
   "cell_type": "code",
   "execution_count": 4,
   "metadata": {},
   "outputs": [],
   "source": [
    "Italian_txts = ['italian-1.txt', 'italian-2.txt', 'italian-3.txt']"
   ]
  },
  {
   "cell_type": "code",
   "execution_count": 5,
   "metadata": {},
   "outputs": [],
   "source": [
    "#create function to combine all txt files \n",
    "#sourced from: https://stackoverflow.com/questions/13613336/how-do-i-concatenate-text-files-in-python\n",
    "def combine_txts(txt_files, folder, name):\n",
    "    with open(f'./{folder}/{name}', 'w') as outfile:\n",
    "        for fname in txt_files:\n",
    "            with open(fname) as infile:\n",
    "                for line in infile:\n",
    "                    outfile.write(line)"
   ]
  },
  {
   "cell_type": "code",
   "execution_count": 6,
   "metadata": {},
   "outputs": [],
   "source": [
    "combine_txts(Italian_txts, \"Radcliffe\", \"Italian.txt\")"
   ]
  },
  {
   "cell_type": "markdown",
   "metadata": {},
   "source": [
    "Now for some text preprocessing. I stripped off all the punctuation from the two Radcliffe novels."
   ]
  },
  {
   "cell_type": "code",
   "execution_count": 8,
   "metadata": {},
   "outputs": [],
   "source": [
    "def strip_punctuation(input_file, output_file):\n",
    "    with open(input_file, 'r', encoding='utf-8') as file:\n",
    "        content = file.read()\n",
    "        \n",
    "    punctuation = str.maketrans('', '', string.punctuation)\n",
    "    stripped_content = content.translate(punctuation)\n",
    "\n",
    "    with open(output_file, 'w', encoding='utf-8') as file:\n",
    "        file.write(stripped_content)"
   ]
  },
  {
   "cell_type": "code",
   "execution_count": 9,
   "metadata": {},
   "outputs": [],
   "source": [
    "strip_punctuation('./Radcliffe/Italian.txt', 'Italian_no_punct.txt')"
   ]
  },
  {
   "cell_type": "code",
   "execution_count": 10,
   "metadata": {},
   "outputs": [],
   "source": [
    "strip_punctuation('./Radcliffe/Castles.txt', 'Castles_no_punct.txt')"
   ]
  },
  {
   "cell_type": "code",
   "execution_count": 11,
   "metadata": {},
   "outputs": [],
   "source": [
    "italian = os.path.join('.',' ', 'Italian_no_punct.txt') "
   ]
  },
  {
   "cell_type": "markdown",
   "metadata": {},
   "source": [
    "*The Italian* had an odd character in place of 's' so I had to replace all instances of the character with 's'."
   ]
  },
  {
   "cell_type": "code",
   "execution_count": 12,
   "metadata": {},
   "outputs": [],
   "source": [
    "italian = [word.replace('ſ','s') for word in italian]"
   ]
  },
  {
   "cell_type": "code",
   "execution_count": 13,
   "metadata": {},
   "outputs": [],
   "source": [
    "italian_str = str(italian)"
   ]
  },
  {
   "cell_type": "code",
   "execution_count": 14,
   "metadata": {},
   "outputs": [],
   "source": [
    "letters = re.compile('[^A-Za-z]')\n",
    "italian_clean = ''\n",
    "with open('Italian_no_punct.txt','r',encoding=\"utf-8\") as f:\n",
    "    content = f.read()\n",
    "    for char in content:\n",
    "        char = char.replace('ſ', 's')\n",
    "        italian_clean += char\n",
    "    italian_clean = letters.sub(' ', italian_clean)\n",
    "\n",
    "    \n",
    "with open('Italian_no_punct.txt',\"w+\",encoding=\"utf-8\") as f:\n",
    "    f.write(italian_clean)"
   ]
  },
  {
   "cell_type": "markdown",
   "metadata": {},
   "source": [
    "Here, I did a check to see how *The Italian* looked after the initial preprocessing. "
   ]
  },
  {
   "cell_type": "code",
   "execution_count": 15,
   "metadata": {},
   "outputs": [
    {
     "name": "stdout",
     "output_type": "stream",
     "text": [
      "He wrapt in clouds of mystery and filence  Broods ver his passions bodies them in deeds  And sends them forth on wings of Fate to others  Like the invisible Will chat guides us   Unheard unknown unsearchable    Aron the year      fome English  travellers in Italy during one of their ex  cursions in the environs of Naples hap  pened to stop before the portico of the  Santa Maria del Pianto a church\n"
     ]
    }
   ],
   "source": [
    "print(italian_clean[:400])"
   ]
  },
  {
   "cell_type": "markdown",
   "metadata": {},
   "source": [
    "The same process took place for Radcliffe's novel *The Castles of Athlin and Dunbayne*."
   ]
  },
  {
   "cell_type": "code",
   "execution_count": 16,
   "metadata": {},
   "outputs": [],
   "source": [
    "castles = os.path.join('.',' ', 'Castles_no_punct.txt') \n",
    "castles = [word.replace('ſ','s') for word in castles]\n",
    "castles_str = str(castles)"
   ]
  },
  {
   "cell_type": "code",
   "execution_count": 17,
   "metadata": {},
   "outputs": [],
   "source": [
    "letters = re.compile('[^A-Za-z]')\n",
    "castles_clean = ''\n",
    "with open('Castles_no_punct.txt','r',encoding=\"utf-8\") as f:\n",
    "    content = f.read()\n",
    "    for char in content:\n",
    "        char = char.replace('ſ', 's')\n",
    "        castles_clean += char\n",
    "    castles_clean = letters.sub(' ', castles_clean)\n",
    "\n",
    "    \n",
    "with open('Castles_no_punct.txt',\"w+\",encoding=\"utf-8\") as f:\n",
    "    f.write(castles_clean)"
   ]
  },
  {
   "cell_type": "markdown",
   "metadata": {},
   "source": [
    "Here, I checked to see how the novel looked. Further preprocessing will take place later. "
   ]
  },
  {
   "cell_type": "code",
   "execution_count": 18,
   "metadata": {},
   "outputs": [
    {
     "name": "stdout",
     "output_type": "stream",
     "text": [
      "prer    ET         lt      RN       P        n         A he    l      r    ET         lt      RN       P        n         A he    l      CASTLES    ATHLIN any DUNBAYNE    THE     CASTLES    ATHLIN any DUNBAYNE       HIGHLAND STORY            FOR JUSTCE BARES THE ARM or cop  AND THE GRASPD VENGEANCE ONLY WAITS HIS NOD    CAWTHs     The Second Edition    A    LONDON    PRINTED FOR HOOKHAM AND CARPENTER  BONDSTREET         N Oo c xciII    THE    CASTLES    O F    ATHLIN any DUNBAYNE    N the northeast coast of Scotland  Ein the most romantic part of the  Highlands stood the castle of Athlin  an edifice built on the summit of a  rock whose base was in the fea This  pile was venerable from its antiquity  and from its gothic structure but more  venerable from the virtues which it  enclosed It was the residence of the        beautiful widow and the children  B of          of the noble Earl of A\n"
     ]
    }
   ],
   "source": [
    "print(castles_clean[:900])"
   ]
  },
  {
   "cell_type": "markdown",
   "metadata": {},
   "source": [
    "Here, I combined the two volumes of Radcliffe's *A Journey Made in the Summer of 1794*."
   ]
  },
  {
   "cell_type": "code",
   "execution_count": 19,
   "metadata": {},
   "outputs": [],
   "source": [
    "journey_summer = ['journey-summer-1-cleaned.txt', 'journey-summer-vol2-cleaned.txt']"
   ]
  },
  {
   "cell_type": "code",
   "execution_count": 20,
   "metadata": {},
   "outputs": [],
   "source": [
    "combine_txts(journey_summer, \"Radcliffe\", \"Journey-summer.txt\")"
   ]
  },
  {
   "cell_type": "markdown",
   "metadata": {},
   "source": [
    "Now, I loaded in all Austen's texts that were downloaded from Project Gutenberg using the function load_austen(). Originally, I created a function to strip the headers from Austen's novels, but all the headers were in different places on the novels. Thus, it was faster for me to manually strip the headers from the raw .txt files. All 6 of Austen's cleaned texts are uploaded under the folder \"Austen.\" The four books from Radcliffe that were also downloaded from Project Gutenberg were cleaned in the same way and stored under the folder \"Radcliffe-2.\" "
   ]
  },
  {
   "cell_type": "code",
   "execution_count": 21,
   "metadata": {},
   "outputs": [],
   "source": [
    "#Load Austen texts \n",
    "austen_novels = []\n",
    "def load_austen(path, novel_lst):\n",
    "    \n",
    "    for doc in os.listdir(path):\n",
    "        if os.path.isfile(os.path.join(path, doc)):\n",
    "            with open(os.path.join(path, doc), \"r\", encoding='utf-8') as files:\n",
    "                novel_lst.append(files.read())\n",
    "                # years.append(int(doc.split('_')[0]))\n",
    "    print(f\"Number of novels: {len(novel_lst)}\")"
   ]
  },
  {
   "cell_type": "markdown",
   "metadata": {},
   "source": [
    "Here are the six Austen novels."
   ]
  },
  {
   "cell_type": "code",
   "execution_count": 22,
   "metadata": {},
   "outputs": [
    {
     "name": "stdout",
     "output_type": "stream",
     "text": [
      "Number of novels: 6\n"
     ]
    }
   ],
   "source": [
    "# load_austen(\"./info-3350/Final Project/Austen\")\n",
    "load_austen(\"/Users/bethkam/info-3350/Final-Project/Austen/\", austen_novels)"
   ]
  },
  {
   "cell_type": "code",
   "execution_count": 23,
   "metadata": {},
   "outputs": [],
   "source": [
    "#print(austen_novels[5])"
   ]
  },
  {
   "cell_type": "code",
   "execution_count": 24,
   "metadata": {},
   "outputs": [
    {
     "name": "stdout",
     "output_type": "stream",
     "text": [
      "Number of novels: 4\n"
     ]
    }
   ],
   "source": [
    "#Load the rest of radcliffe's novels\n",
    "radcliffe_novels = []\n",
    "load_austen(\"/Users/bethkam/info-3350/Final-Project/Radcliffe-2/\", radcliffe_novels)"
   ]
  },
  {
   "cell_type": "code",
   "execution_count": 25,
   "metadata": {},
   "outputs": [],
   "source": [
    "additional = [italian_clean, castles_clean]\n",
    "# radcliffe_complete.extend(additional)"
   ]
  },
  {
   "cell_type": "code",
   "execution_count": 26,
   "metadata": {},
   "outputs": [],
   "source": [
    "radcliffe_novels.extend(additional)"
   ]
  },
  {
   "cell_type": "markdown",
   "metadata": {},
   "source": [
    "Here are the six Radcliffe novels."
   ]
  },
  {
   "cell_type": "code",
   "execution_count": 27,
   "metadata": {},
   "outputs": [
    {
     "name": "stdout",
     "output_type": "stream",
     "text": [
      "6\n"
     ]
    }
   ],
   "source": [
    "print(len(radcliffe_novels))"
   ]
  },
  {
   "cell_type": "code",
   "execution_count": 245,
   "metadata": {},
   "outputs": [],
   "source": [
    "# print(radcliffe_novels[2])"
   ]
  },
  {
   "cell_type": "markdown",
   "metadata": {},
   "source": [
    "## Further Processing "
   ]
  },
  {
   "cell_type": "markdown",
   "metadata": {},
   "source": [
    "Now that all my books were loaded, I did further preprocessing for my dataset. First, when I examined some of the raw Austen files, I noticed that a lot of underscores were present so I removed those first."
   ]
  },
  {
   "cell_type": "code",
   "execution_count": 48,
   "metadata": {},
   "outputs": [],
   "source": [
    "austen_even_cleaner = []\n",
    "for novel in austen_novels:\n",
    "    austen_even_cleaner.append(novel.replace(\"_\", ' '))\n",
    "# austen_even_cleaner[4]"
   ]
  },
  {
   "cell_type": "markdown",
   "metadata": {},
   "source": [
    "Next, Austen's novels all have a lot of character names. Although looking at character names is an interesting aspect of text mining, I chose to remove the names. I want to focus more on the sentiments and word placement in Austen and Radcliffe's names and give a higher-level analysis of these works."
   ]
  },
  {
   "cell_type": "code",
   "execution_count": 31,
   "metadata": {},
   "outputs": [
    {
     "name": "stdout",
     "output_type": "stream",
     "text": [
      "Collecting en-core-web-sm==3.7.1\n",
      "  Downloading https://github.com/explosion/spacy-models/releases/download/en_core_web_sm-3.7.1/en_core_web_sm-3.7.1-py3-none-any.whl (12.8 MB)\n",
      "\u001b[2K     \u001b[90m━━━━━━━━━━━━━━━━━━━━━━━━━━━━━━━━━━━━━━━━\u001b[0m \u001b[32m12.8/12.8 MB\u001b[0m \u001b[31m27.8 MB/s\u001b[0m eta \u001b[36m0:00:00\u001b[0m00:01\u001b[0m00:01\u001b[0m\n",
      "\u001b[?25hRequirement already satisfied: spacy<3.8.0,>=3.7.2 in /Users/bethkam/opt/anaconda3/lib/python3.9/site-packages (from en-core-web-sm==3.7.1) (3.7.2)\n",
      "Requirement already satisfied: spacy-legacy<3.1.0,>=3.0.11 in /Users/bethkam/opt/anaconda3/lib/python3.9/site-packages (from spacy<3.8.0,>=3.7.2->en-core-web-sm==3.7.1) (3.0.12)\n",
      "Requirement already satisfied: spacy-loggers<2.0.0,>=1.0.0 in /Users/bethkam/opt/anaconda3/lib/python3.9/site-packages (from spacy<3.8.0,>=3.7.2->en-core-web-sm==3.7.1) (1.0.5)\n",
      "Requirement already satisfied: murmurhash<1.1.0,>=0.28.0 in /Users/bethkam/opt/anaconda3/lib/python3.9/site-packages (from spacy<3.8.0,>=3.7.2->en-core-web-sm==3.7.1) (1.0.10)\n",
      "Requirement already satisfied: cymem<2.1.0,>=2.0.2 in /Users/bethkam/opt/anaconda3/lib/python3.9/site-packages (from spacy<3.8.0,>=3.7.2->en-core-web-sm==3.7.1) (2.0.8)\n",
      "Requirement already satisfied: preshed<3.1.0,>=3.0.2 in /Users/bethkam/opt/anaconda3/lib/python3.9/site-packages (from spacy<3.8.0,>=3.7.2->en-core-web-sm==3.7.1) (3.0.9)\n",
      "Requirement already satisfied: thinc<8.3.0,>=8.1.8 in /Users/bethkam/opt/anaconda3/lib/python3.9/site-packages (from spacy<3.8.0,>=3.7.2->en-core-web-sm==3.7.1) (8.2.1)\n",
      "Requirement already satisfied: wasabi<1.2.0,>=0.9.1 in /Users/bethkam/opt/anaconda3/lib/python3.9/site-packages (from spacy<3.8.0,>=3.7.2->en-core-web-sm==3.7.1) (1.1.2)\n",
      "Requirement already satisfied: srsly<3.0.0,>=2.4.3 in /Users/bethkam/opt/anaconda3/lib/python3.9/site-packages (from spacy<3.8.0,>=3.7.2->en-core-web-sm==3.7.1) (2.4.8)\n",
      "Requirement already satisfied: catalogue<2.1.0,>=2.0.6 in /Users/bethkam/opt/anaconda3/lib/python3.9/site-packages (from spacy<3.8.0,>=3.7.2->en-core-web-sm==3.7.1) (2.0.10)\n",
      "Requirement already satisfied: weasel<0.4.0,>=0.1.0 in /Users/bethkam/opt/anaconda3/lib/python3.9/site-packages (from spacy<3.8.0,>=3.7.2->en-core-web-sm==3.7.1) (0.3.4)\n",
      "Requirement already satisfied: typer<0.10.0,>=0.3.0 in /Users/bethkam/opt/anaconda3/lib/python3.9/site-packages (from spacy<3.8.0,>=3.7.2->en-core-web-sm==3.7.1) (0.9.0)\n",
      "Requirement already satisfied: smart-open<7.0.0,>=5.2.1 in /Users/bethkam/opt/anaconda3/lib/python3.9/site-packages (from spacy<3.8.0,>=3.7.2->en-core-web-sm==3.7.1) (6.4.0)\n",
      "Requirement already satisfied: tqdm<5.0.0,>=4.38.0 in /Users/bethkam/opt/anaconda3/lib/python3.9/site-packages (from spacy<3.8.0,>=3.7.2->en-core-web-sm==3.7.1) (4.64.0)\n",
      "Requirement already satisfied: requests<3.0.0,>=2.13.0 in /Users/bethkam/opt/anaconda3/lib/python3.9/site-packages (from spacy<3.8.0,>=3.7.2->en-core-web-sm==3.7.1) (2.27.1)\n",
      "Requirement already satisfied: pydantic!=1.8,!=1.8.1,<3.0.0,>=1.7.4 in /Users/bethkam/opt/anaconda3/lib/python3.9/site-packages (from spacy<3.8.0,>=3.7.2->en-core-web-sm==3.7.1) (2.5.2)\n",
      "Requirement already satisfied: jinja2 in /Users/bethkam/opt/anaconda3/lib/python3.9/site-packages (from spacy<3.8.0,>=3.7.2->en-core-web-sm==3.7.1) (2.11.3)\n",
      "Requirement already satisfied: setuptools in /Users/bethkam/opt/anaconda3/lib/python3.9/site-packages (from spacy<3.8.0,>=3.7.2->en-core-web-sm==3.7.1) (61.2.0)\n",
      "Requirement already satisfied: packaging>=20.0 in /Users/bethkam/opt/anaconda3/lib/python3.9/site-packages (from spacy<3.8.0,>=3.7.2->en-core-web-sm==3.7.1) (21.3)\n",
      "Requirement already satisfied: langcodes<4.0.0,>=3.2.0 in /Users/bethkam/opt/anaconda3/lib/python3.9/site-packages (from spacy<3.8.0,>=3.7.2->en-core-web-sm==3.7.1) (3.3.0)\n",
      "Requirement already satisfied: numpy>=1.19.0 in /Users/bethkam/opt/anaconda3/lib/python3.9/site-packages (from spacy<3.8.0,>=3.7.2->en-core-web-sm==3.7.1) (1.21.5)\n",
      "Requirement already satisfied: pyparsing!=3.0.5,>=2.0.2 in /Users/bethkam/opt/anaconda3/lib/python3.9/site-packages (from packaging>=20.0->spacy<3.8.0,>=3.7.2->en-core-web-sm==3.7.1) (3.0.4)\n",
      "Requirement already satisfied: annotated-types>=0.4.0 in /Users/bethkam/opt/anaconda3/lib/python3.9/site-packages (from pydantic!=1.8,!=1.8.1,<3.0.0,>=1.7.4->spacy<3.8.0,>=3.7.2->en-core-web-sm==3.7.1) (0.6.0)\n",
      "Requirement already satisfied: pydantic-core==2.14.5 in /Users/bethkam/opt/anaconda3/lib/python3.9/site-packages (from pydantic!=1.8,!=1.8.1,<3.0.0,>=1.7.4->spacy<3.8.0,>=3.7.2->en-core-web-sm==3.7.1) (2.14.5)\n",
      "Requirement already satisfied: typing-extensions>=4.6.1 in /Users/bethkam/opt/anaconda3/lib/python3.9/site-packages (from pydantic!=1.8,!=1.8.1,<3.0.0,>=1.7.4->spacy<3.8.0,>=3.7.2->en-core-web-sm==3.7.1) (4.8.0)\n",
      "Requirement already satisfied: urllib3<1.27,>=1.21.1 in /Users/bethkam/opt/anaconda3/lib/python3.9/site-packages (from requests<3.0.0,>=2.13.0->spacy<3.8.0,>=3.7.2->en-core-web-sm==3.7.1) (1.26.9)\n",
      "Requirement already satisfied: certifi>=2017.4.17 in /Users/bethkam/opt/anaconda3/lib/python3.9/site-packages (from requests<3.0.0,>=2.13.0->spacy<3.8.0,>=3.7.2->en-core-web-sm==3.7.1) (2021.10.8)\n",
      "Requirement already satisfied: charset-normalizer~=2.0.0 in /Users/bethkam/opt/anaconda3/lib/python3.9/site-packages (from requests<3.0.0,>=2.13.0->spacy<3.8.0,>=3.7.2->en-core-web-sm==3.7.1) (2.0.4)\n",
      "Requirement already satisfied: idna<4,>=2.5 in /Users/bethkam/opt/anaconda3/lib/python3.9/site-packages (from requests<3.0.0,>=2.13.0->spacy<3.8.0,>=3.7.2->en-core-web-sm==3.7.1) (3.3)\n",
      "Requirement already satisfied: blis<0.8.0,>=0.7.8 in /Users/bethkam/opt/anaconda3/lib/python3.9/site-packages (from thinc<8.3.0,>=8.1.8->spacy<3.8.0,>=3.7.2->en-core-web-sm==3.7.1) (0.7.11)\n",
      "Requirement already satisfied: confection<1.0.0,>=0.0.1 in /Users/bethkam/opt/anaconda3/lib/python3.9/site-packages (from thinc<8.3.0,>=8.1.8->spacy<3.8.0,>=3.7.2->en-core-web-sm==3.7.1) (0.1.4)\n",
      "Requirement already satisfied: click<9.0.0,>=7.1.1 in /Users/bethkam/opt/anaconda3/lib/python3.9/site-packages (from typer<0.10.0,>=0.3.0->spacy<3.8.0,>=3.7.2->en-core-web-sm==3.7.1) (8.0.4)\n",
      "Requirement already satisfied: cloudpathlib<0.17.0,>=0.7.0 in /Users/bethkam/opt/anaconda3/lib/python3.9/site-packages (from weasel<0.4.0,>=0.1.0->spacy<3.8.0,>=3.7.2->en-core-web-sm==3.7.1) (0.16.0)\n",
      "Requirement already satisfied: MarkupSafe>=0.23 in /Users/bethkam/opt/anaconda3/lib/python3.9/site-packages (from jinja2->spacy<3.8.0,>=3.7.2->en-core-web-sm==3.7.1) (2.0.1)\n",
      "\u001b[38;5;2m✔ Download and installation successful\u001b[0m\n",
      "You can now load the package via spacy.load('en_core_web_sm')\n"
     ]
    }
   ],
   "source": [
    "!python -m spacy download en_core_web_sm"
   ]
  },
  {
   "cell_type": "code",
   "execution_count": 32,
   "metadata": {},
   "outputs": [],
   "source": [
    "nlp = spacy.load('en_core_web_sm')"
   ]
  },
  {
   "cell_type": "code",
   "execution_count": 33,
   "metadata": {},
   "outputs": [],
   "source": [
    "nlp.max_length = 2000000"
   ]
  },
  {
   "cell_type": "code",
   "execution_count": 41,
   "metadata": {},
   "outputs": [],
   "source": [
    "def extract_names(text):\n",
    "    doc = nlp(text)\n",
    "    names = {token.text for token in doc if token.ent_type_ == 'PERSON'}\n",
    "    \n",
    "    return list(names)"
   ]
  },
  {
   "cell_type": "code",
   "execution_count": 42,
   "metadata": {},
   "outputs": [],
   "source": [
    "austen_emma_names = extract_names(austen_even_cleaner[0])"
   ]
  },
  {
   "cell_type": "code",
   "execution_count": 49,
   "metadata": {},
   "outputs": [],
   "source": [
    "austen_pride_names = extract_names(austen_even_cleaner[1])"
   ]
  },
  {
   "cell_type": "code",
   "execution_count": 50,
   "metadata": {},
   "outputs": [],
   "source": [
    "austen_sense_names = extract_names(austen_even_cleaner[2])"
   ]
  },
  {
   "cell_type": "code",
   "execution_count": 51,
   "metadata": {},
   "outputs": [],
   "source": [
    "austen_northanger_names = extract_names(austen_even_cleaner[3])"
   ]
  },
  {
   "cell_type": "code",
   "execution_count": 52,
   "metadata": {},
   "outputs": [],
   "source": [
    "austen_mansfield_names = extract_names(austen_even_cleaner[4])"
   ]
  },
  {
   "cell_type": "code",
   "execution_count": 53,
   "metadata": {},
   "outputs": [],
   "source": [
    "austen_persuasion_names = extract_names(austen_even_cleaner[5])"
   ]
  },
  {
   "cell_type": "markdown",
   "metadata": {},
   "source": [
    "Next, I wanted to make a custom stopword list for Austen. I added some more of the words that do not seem the most indicative of Austen's writing as well as some punctuation marks that were missed earlier when the Austen texts had puncutation removed."
   ]
  },
  {
   "cell_type": "code",
   "execution_count": 274,
   "metadata": {},
   "outputs": [],
   "source": [
    "#create custom stopwords for processing Austen \n",
    "Austen_stops = stopwords.words('english')\n",
    "for p in string.punctuation:\n",
    "    Austen_stops.append(p) \n",
    "word_list = ['CHAPTER', 'could', 'every', 'much', 'must', 'one', 'said', 'think',\n",
    " 'well', 'would', 'good', 'know', 'little', 'might', 'miss', 'mr', 'mrs', 'never', 'nothing', 'soon',\n",
    " 'though', 'time', 'always', 'day', 'ever', 'first', 'great', 'made', 'may', 'quite', 'say', 'see', 'shall', 'thing', 'thought', 'two',\n",
    " 'without', 'however', 'indeed', 'sure', 'make', 'way', 'like', 'many', 'arthur', 'surprize', '—', '” “', '’']\n",
    "Austen_stops.extend(word_list)\n",
    "Austen_stops.extend(austen_emma_names)\n",
    "Austen_stops.extend(austen_pride_names)\n",
    "Austen_stops.extend(austen_sense_names)\n",
    "Austen_stops.extend(austen_northanger_names)\n",
    "Austen_stops.extend(austen_mansfield_names)\n",
    "Austen_stops.extend(austen_persuasion_names)\n",
    "\n",
    "lower_stop_austen = [word.lower() for word in Austen_stops]\n",
    "\n",
    "#print(lower_stop_austen)"
   ]
  },
  {
   "cell_type": "markdown",
   "metadata": {},
   "source": [
    "I also lemmatized the text to have a more consistent representation of the words in Austen's novel. "
   ]
  },
  {
   "cell_type": "code",
   "execution_count": 126,
   "metadata": {},
   "outputs": [],
   "source": [
    "def lemmatizer(text):\n",
    "    lemmatizer = WordNetLemmatizer()\n",
    "    tokens = word_tokenize(text)\n",
    "    lemmatized_tokens = [lemmatizer.lemmatize(token) for token in tokens]\n",
    "    return ' '.join(lemmatized_tokens)"
   ]
  },
  {
   "cell_type": "markdown",
   "metadata": {},
   "source": [
    "Also, I forgot to remove the punctuation from Austen's novels, so I created a new function for it."
   ]
  },
  {
   "cell_type": "code",
   "execution_count": 267,
   "metadata": {},
   "outputs": [],
   "source": [
    "def remove_punctuation(text):\n",
    "    translator = str.maketrans(\"\", \"\", string.punctuation)\n",
    "    text_without_punct = text.translate(translator)\n",
    "    \n",
    "    return text_without_punct"
   ]
  },
  {
   "cell_type": "code",
   "execution_count": 129,
   "metadata": {},
   "outputs": [],
   "source": [
    "emma_lemmatize = lemmatizer(austen_even_cleaner[0])"
   ]
  },
  {
   "cell_type": "code",
   "execution_count": 130,
   "metadata": {},
   "outputs": [],
   "source": [
    "pride_lemmatize = lemmatizer(austen_even_cleaner[1])"
   ]
  },
  {
   "cell_type": "code",
   "execution_count": 131,
   "metadata": {},
   "outputs": [],
   "source": [
    "sense_lemmatize = lemmatizer(austen_even_cleaner[2])"
   ]
  },
  {
   "cell_type": "code",
   "execution_count": 132,
   "metadata": {},
   "outputs": [],
   "source": [
    "northanger_lemmatize = lemmatizer(austen_even_cleaner[3])"
   ]
  },
  {
   "cell_type": "code",
   "execution_count": 133,
   "metadata": {},
   "outputs": [],
   "source": [
    "mansfield_lemmatize = lemmatizer(austen_even_cleaner[4])"
   ]
  },
  {
   "cell_type": "code",
   "execution_count": 137,
   "metadata": {},
   "outputs": [],
   "source": [
    "persuasion_lemmatize = lemmatizer(austen_even_cleaner[5])"
   ]
  },
  {
   "cell_type": "code",
   "execution_count": 276,
   "metadata": {},
   "outputs": [],
   "source": [
    "emma_done = remove_punctuation(emma_lemmatize)"
   ]
  },
  {
   "cell_type": "code",
   "execution_count": 269,
   "metadata": {},
   "outputs": [],
   "source": [
    "pride_done = remove_punctuation(pride_lemmatize)\n",
    "sense_done = remove_punctuation(sense_lemmatize)\n",
    "northanger_done = remove_punctuation(northanger_lemmatize)\n",
    "mansfield_done = remove_punctuation(mansfield_lemmatize)\n",
    "persuasion_done = remove_punctuation(persuasion_lemmatize)"
   ]
  },
  {
   "cell_type": "markdown",
   "metadata": {},
   "source": [
    "Here is the finished list of Austen's novels stored in \"austen_complete.\""
   ]
  },
  {
   "cell_type": "code",
   "execution_count": 271,
   "metadata": {},
   "outputs": [],
   "source": [
    "austen_complete = [emma_done, pride_done, sense_done, northanger_done, mansfield_done, persuasion_done]\n",
    "# print(austen_complete[0])"
   ]
  },
  {
   "cell_type": "code",
   "execution_count": 143,
   "metadata": {},
   "outputs": [],
   "source": [
    "# austen_lemmatized = [emma_lemmatize, pride_lemmatize, sense_lemmatize, northanger_lemmatize, mansfield_lemmatize, persuasion_lemmatize]\n",
    "# # austen_lemmatized.extend(emma_lemmatize)"
   ]
  },
  {
   "cell_type": "markdown",
   "metadata": {},
   "source": [
    "The same processing takes place for Radcliffe's novels. "
   ]
  },
  {
   "cell_type": "code",
   "execution_count": null,
   "metadata": {},
   "outputs": [],
   "source": [
    "radcliffe_even_cleaner = []\n",
    "for novel in radcliffe_novels:\n",
    "    radcliffe_even_cleaner.append(novel.replace(\"_\", ' '))"
   ]
  },
  {
   "cell_type": "code",
   "execution_count": null,
   "metadata": {},
   "outputs": [],
   "source": [
    "rad_sicilian_names = extract_names(radcliffe_even_cleaner[0])"
   ]
  },
  {
   "cell_type": "code",
   "execution_count": null,
   "metadata": {},
   "outputs": [],
   "source": [
    "rad_journey_names = extract_names(radcliffe_even_cleaner[1])\n",
    "rad_forest_names = extract_names(radcliffe_even_cleaner[2])\n",
    "rad_udolpho_names = extract_names(radcliffe_even_cleaner[3])\n",
    "rad_italian_names = extract_names(radcliffe_even_cleaner[4])\n",
    "rad_castles_names = extract_names(radcliffe_even_cleaner[5])"
   ]
  },
  {
   "cell_type": "code",
   "execution_count": null,
   "metadata": {},
   "outputs": [],
   "source": [
    "#create custom stopwords for processing Radcliffe\n",
    "Radcliffe_stops = stopwords.words('english')\n",
    "for p in string.punctuation:\n",
    "    Radcliffe_stops.append(p) \n",
    "word_list = ['prer', 'ET', 'lt', 'RN', 'P', 'n', 'A','he','l', 'r', 'ET', 'lt','RN', 'P', 'n', 'A', 'l', 'CASTLES', 'ATHLIN', 'DUNBAYNE','THE', 'CASTLES', 'HIGHLAND STORY', 'FOR JUSTCE BARES THE ARM', 'or cop  AND THE GRASPD VENGEANCE ONLY WAITS HIS NOD    CAWTHs     The Second Edition    A    LONDON    PRINTED FOR HOOKHAM AND CARPENTER  BONDSTREET         N Oo c xciII    THE    CASTLES    O F    ATHLIN any DUNBAYNE    N ', 'would',\n",
    "'may', 'might', 'though', 'much', 'without', 'whose', 'could', 'made', 'however', 'said', 'first', 'well', 'yet', 'xciii']\n",
    "Radcliffe_stops.extend(word_list)\n",
    "Radcliffe_stops.extend(rad_sicilian_names)\n",
    "Radcliffe_stops.extend(rad_journey_names)\n",
    "Radcliffe_stops.extend(rad_forest_names)\n",
    "Radcliffe_stops.extend(rad_udolpho_names)\n",
    "Radcliffe_stops.extend(rad_italian_names)\n",
    "Radcliffe_stops.extend(rad_castles_names)\n",
    "\n",
    "lower_stop_radcliffe = [word.lower() for word in Radcliffe_stops]\n",
    "\n",
    "#print(lower_stop_radcliffe)"
   ]
  },
  {
   "cell_type": "code",
   "execution_count": null,
   "metadata": {},
   "outputs": [],
   "source": [
    "sicilian_lemmatize = lemmatizer(radcliffe_even_cleaner[0])\n",
    "journey_lemmatize = lemmatizer(radcliffe_even_cleaner[1])\n",
    "forest_lemmatize = lemmatizer(radcliffe_even_cleaner[2])\n",
    "udolpho_lemmatize = lemmatizer(radcliffe_even_cleaner[3])\n",
    "italian_lemmatize = lemmatizer(radcliffe_even_cleaner[4])\n",
    "castles_lemmatize = lemmatizer(radcliffe_even_cleaner[5])"
   ]
  },
  {
   "cell_type": "code",
   "execution_count": null,
   "metadata": {},
   "outputs": [],
   "source": [
    "sicilian_done = remove_punctuation(sicilian_lemmatize)\n",
    "journey_done = remove_punctuation(journey_lemmatize)\n",
    "forest_done = remove_punctuation(forest_lemmatize)\n",
    "udolpho_done = remove_punctuation(udolpho_lemmatize)\n",
    "italian_done = remove_punctuation(italian_lemmatize)\n",
    "castles_done = remove_punctuation(castles_lemmatize)"
   ]
  },
  {
   "cell_type": "markdown",
   "metadata": {},
   "source": [
    "Here is the completed dataset for Radcliffe."
   ]
  },
  {
   "cell_type": "code",
   "execution_count": null,
   "metadata": {},
   "outputs": [],
   "source": [
    "radcliffe_complete = [sicilian_done, journey_done, forest_done, udolpho_done, italian_done, castles_done]"
   ]
  },
  {
   "cell_type": "code",
   "execution_count": null,
   "metadata": {},
   "outputs": [],
   "source": [
    "# radcliffe_lemmatized = [sicilian_lemmatize, journey_lemmatize, forest_lemmatize, udolpho_lemmatize, italian_lemmatize, castles_lemmatize]"
   ]
  },
  {
   "cell_type": "markdown",
   "metadata": {},
   "source": [
    "# Methods\n",
    "\n",
    "Below are all my methods. The results are interpreted along with each different method."
   ]
  },
  {
   "cell_type": "markdown",
   "metadata": {},
   "source": [
    "## Tfidf Time"
   ]
  },
  {
   "cell_type": "markdown",
   "metadata": {},
   "source": [
    "To further characterize the styles of Radcliffe and Austen, I decided to apply TF-IDF vectorization on the two separate works. After that, I interpreted the features and most common words found to see if they appeared relevant to Austen and Radcliffe's writing styles."
   ]
  },
  {
   "cell_type": "code",
   "execution_count": 277,
   "metadata": {},
   "outputs": [
    {
     "name": "stdout",
     "output_type": "stream",
     "text": [
      "Feature Matrix shape: (6, 30)\n",
      "Mean value: 1.0855514018557086e-16\n",
      "away\n",
      "better\n",
      "come\n",
      "done\n",
      "enough\n",
      "even\n",
      "family\n",
      "father\n",
      "feeling\n",
      "friend\n",
      "give\n",
      "go\n",
      "ha\n",
      "hope\n",
      "last\n",
      "letter\n",
      "look\n",
      "man\n",
      "manner\n",
      "mind\n",
      "moment\n",
      "mother\n",
      "oh\n",
      "room\n",
      "seemed\n",
      "sir\n",
      "sister\n",
      "upon\n",
      "wa\n",
      "wish\n",
      "Feature Names: ['away' 'better' 'come' 'done' 'enough' 'even' 'family' 'father' 'feeling'\n",
      " 'friend' 'give' 'go' 'ha' 'hope' 'last' 'letter' 'look' 'man' 'manner'\n",
      " 'mind' 'moment' 'mother' 'oh' 'room' 'seemed' 'sir' 'sister' 'upon' 'wa'\n",
      " 'wish']\n",
      "Most Common 20 Words:\n",
      "wa\n",
      "ha\n",
      "sister\n",
      "friend\n",
      "man\n",
      "sir\n",
      "feeling\n",
      "go\n",
      "father\n",
      "give\n",
      "away\n",
      "hope\n",
      "room\n",
      "wish\n",
      "come\n",
      "moment\n",
      "last\n",
      "mother\n",
      "even\n",
      "family\n"
     ]
    },
    {
     "name": "stderr",
     "output_type": "stream",
     "text": [
      "/Users/bethkam/opt/anaconda3/lib/python3.9/site-packages/sklearn/feature_extraction/text.py:396: UserWarning: Your stop_words may be inconsistent with your preprocessing. Tokenizing the stop words generated tokens ['add', 'admiration', 'affected', 'alas', 'almane', 'appear', 'appeared', 'behind', 'compliment', 'consciousness', 'detail', 'easily', 'easy', 'go', 'gone', 'greater', 'happy', 'health', 'indignantly', 'infatuation', 'jealousy', 'judge', 'kindness', 'knew', 'known', 'large', 'learn', 'letter', 'mare', 'mean', 'men', 'methodical', 'mine', 'miserable', 'moment', 'motive', 'nobody', 'oh', 'passed', 'plan', 'propriety', 'prosperous', 'quickly', 'ready', 'return', 'right', 'rise', 'sentence', 'sight', 'sir', 'sufficient', 'together', 'understanding', 'upon', 'windows', 'women', 'worse', 'yes'] not in stop_words.\n",
      "  warnings.warn(\n"
     ]
    }
   ],
   "source": [
    "austen_vectorizer = TfidfVectorizer(\n",
    "    stop_words = lower_stop_austen,\n",
    "    min_df = 0.5, \n",
    "    max_features = 30,\n",
    "    use_idf = False,\n",
    "    lowercase = True,\n",
    ")\n",
    "\n",
    "X = austen_vectorizer.fit_transform(austen_complete)\n",
    "\n",
    "scaler = StandardScaler()\n",
    "X_scaled = scaler.fit_transform(X.toarray())\n",
    "\n",
    "print(f\"Feature Matrix shape: {X.shape}\")\n",
    "print(f\"Mean value: {X_scaled.mean()}\")\n",
    "for i in austen_vectorizer.get_feature_names_out():\n",
    "    print(i)\n",
    "\n",
    "feature_names = austen_vectorizer.get_feature_names_out()\n",
    "print(f\"Feature Names: {feature_names}\")\n",
    "\n",
    "\n",
    "term_sums = np.sum(X.toarray(), axis=0)\n",
    "\n",
    "term_counter = Counter(dict(zip(feature_names, term_sums)))\n",
    "\n",
    "top_20_terms = term_counter.most_common(20)\n",
    "\n",
    "print(\"Most Common 20 Words:\")\n",
    "for term, count in top_20_terms:\n",
    "    print(term)"
   ]
  },
  {
   "cell_type": "markdown",
   "metadata": {},
   "source": [
    "**Intepretation** \n",
    "\n",
    "There are have six document and thirty features here. For the features, I would say the ones chosen do in fact largely mirror the style of Austen's writing, especially \"letter\", \"manner\", and \"feeling.\" Austen's novels largely focus on the both the internal and external appearances of her characters. In addition, since all her novels center on women, she does discuss the feelings of her protagonists. Letters are common in regency era (and many other eras), but since letters are often a mode of expression in Austen's works, having \"letter\" as a primary feature to express the feelings of Austen's characters is common and reflected by the vectorization performed. \n",
    "\n",
    "For the most common 20 words, I also see a lot of familial terms such as \"mother\", \"family\", \"sister\" and \"friend.\" Again, Austen's works focus a lot on the interactions between characters in relation to external events. Austen's works centers on more \"realistic\" type of Regency events as well. And since women spend a lot of time with their families until marriage, it also makes sense that these words would be present in the most common ones since Austen's work centered on women who are in the pre-marital state."
   ]
  },
  {
   "cell_type": "code",
   "execution_count": 283,
   "metadata": {},
   "outputs": [
    {
     "name": "stderr",
     "output_type": "stream",
     "text": [
      "/Users/bethkam/opt/anaconda3/lib/python3.9/site-packages/sklearn/feature_extraction/text.py:396: UserWarning: Your stop_words may be inconsistent with your preprocessing. Tokenizing the stop words generated tokens ['amselle', 'another', 'arm', 'aunoy', 'bares', 'belonged', 'bondstreet', 'booty', 'carpenter', 'cawths', 'com', 'cop', 'days', 'edition', 'empire', 'evening', 'finger', 'flit', 'fortune', 'glanc', 'graspd', 'hookham', 'hope', 'justce', 'london', 'mariners', 'ms', 'mselle', 'murd', 'nod', 'occasions', 'oyré', 'pow', 'printed', 'relief', 'replied', 'reply', 'rer', 'retract', 'rob', 'sake', 'served', 'story', 'vengeance', 'waits'] not in stop_words.\n",
      "  warnings.warn(\n"
     ]
    },
    {
     "name": "stdout",
     "output_type": "stream",
     "text": [
      "Feature Matrix shape: (6, 30)\n",
      "Mean value: 4.4408920985006264e-17\n",
      "almost\n",
      "chamber\n",
      "circumstance\n",
      "door\n",
      "even\n",
      "every\n",
      "eye\n",
      "father\n",
      "heard\n",
      "heart\n",
      "hour\n",
      "know\n",
      "left\n",
      "length\n",
      "little\n",
      "man\n",
      "mind\n",
      "moment\n",
      "never\n",
      "one\n",
      "part\n",
      "passed\n",
      "person\n",
      "place\n",
      "scene\n",
      "seemed\n",
      "still\n",
      "thought\n",
      "till\n",
      "upon\n",
      "Feature Names: ['almost' 'chamber' 'circumstance' 'door' 'even' 'every' 'eye' 'father'\n",
      " 'heard' 'heart' 'hour' 'know' 'left' 'length' 'little' 'man' 'mind'\n",
      " 'moment' 'never' 'one' 'part' 'passed' 'person' 'place' 'scene' 'seemed'\n",
      " 'still' 'thought' 'till' 'upon']\n",
      "Most Common 20 Words:\n",
      "till\n",
      "left\n",
      "still\n",
      "heart\n",
      "moment\n",
      "seemed\n",
      "heard\n",
      "know\n",
      "father\n",
      "hour\n",
      "almost\n",
      "length\n",
      "place\n",
      "upon\n",
      "circumstance\n",
      "part\n",
      "little\n",
      "passed\n",
      "every\n",
      "eye\n"
     ]
    }
   ],
   "source": [
    "radcliffe_vectorizer = TfidfVectorizer(\n",
    "    stop_words = lower_stop_radcliffe,\n",
    "    min_df = 0.5, \n",
    "    max_features = 30,\n",
    "    use_idf = False,\n",
    "    lowercase = True,\n",
    ")\n",
    "\n",
    "X_r = radcliffe_vectorizer.fit_transform(radcliffe_complete)\n",
    "\n",
    "scaler = StandardScaler()\n",
    "X_r_scaled = scaler.fit_transform(X_r.toarray())\n",
    "\n",
    "print(f\"Feature Matrix shape: {X_r.shape}\")\n",
    "print(f\"Mean value: {X_r_scaled.mean()}\")\n",
    "for i in radcliffe_vectorizer.get_feature_names_out():\n",
    "    print(i)\n",
    "\n",
    "feature_names = radcliffe_vectorizer.get_feature_names_out()\n",
    "print(f\"Feature Names: {feature_names}\")\n",
    "\n",
    "\n",
    "term_sums = np.sum(X.toarray(), axis=0)\n",
    "\n",
    "term_counter = Counter(dict(zip(feature_names, term_sums)))\n",
    "\n",
    "top_20_terms = term_counter.most_common(20)\n",
    "\n",
    "print(\"Most Common 20 Words:\")\n",
    "for term, count in top_20_terms:\n",
    "    print(term)"
   ]
  },
  {
   "cell_type": "markdown",
   "metadata": {},
   "source": [
    "**Interpretation**\n",
    "\n",
    "There are six documents and 30 features. Interestingly, the features listed here for Radcliffe's work do seem relatively informative of the work. \"Chamber\", \"scene\", \"and \"door\" do seem indicative of writing I would expect in a gothic novel, give that gothic novels, especially Radcliffe's works seem to focus a lot on surroundings. Other words such as \"heart\", \"hour\" and \"mind\" could also be indicative of the more passionate feelings or expressions typically found in gothic writing. \n",
    "\n",
    "For the most common 20 words, the words are also indicative of potential gothic scenes such as \"circumstance\" and \"hour.\" That being said, some of the most common words here could be more subject to intepretation. Although I view \"passed\" as another potential indicator given that it has the dual implication of either time or travel (both of which are typicaly in gothic writing), those words could very well be implying something else. \n",
    "\n",
    "Overall, though, I think the features and most common words chosen are pretty reflective of the type of events that characterize the Radcliffe's works. My one slight concern is that it's possible these features and words are characterizing the events of Radcliffe more than her actual writing style---but the two do go hand-in-hand in literature, thus I still believe these featues to still have some merit."
   ]
  },
  {
   "cell_type": "markdown",
   "metadata": {},
   "source": [
    "## Sentiment Analysis"
   ]
  },
  {
   "cell_type": "markdown",
   "metadata": {},
   "source": [
    "Now, I want to analyze the sentiment of the Austen and Radcliffe texts. Since the object of the question if to see how similar Austen's styles are to Radcliffe's, it will be interesting to observe how different (or similar) their sentiment scores will be."
   ]
  },
  {
   "cell_type": "code",
   "execution_count": 223,
   "metadata": {},
   "outputs": [],
   "source": [
    "def remove_stopwords(text, stopwords):\n",
    "    text = ' '.join(text)\n",
    "    text = text.lower()\n",
    "    total_words = Counter(word_tokenize(text))\n",
    "    for stop in stopwords: \n",
    "        del total_words[stop] \n",
    "    return list(total_words.keys())"
   ]
  },
  {
   "cell_type": "code",
   "execution_count": 285,
   "metadata": {},
   "outputs": [],
   "source": [
    "austen_sentiments = remove_stopwords(austen_complete, lower_stop_austen)"
   ]
  },
  {
   "cell_type": "code",
   "execution_count": 286,
   "metadata": {},
   "outputs": [],
   "source": [
    "# print(austen_sentiments)"
   ]
  },
  {
   "cell_type": "code",
   "execution_count": 287,
   "metadata": {},
   "outputs": [],
   "source": [
    "#The sentiment analyzer is repurposed from INFO 6350 homework, Fa '23, Matthew Wilkens \n",
    "def sentiment_analyzer(sentiment, text): \n",
    "    string = ' '.join(text)\n",
    "    \n",
    "    sentiment_dict = sentiment.polarity_scores(string) \n",
    "    overall_sentiment = \"\" \n",
    "    if sentiment_dict[\"compound\"] >= 0.05:\n",
    "        overall_sentiment = \"pos\" \n",
    "    elif sentiment_dict[\"compound\"] <= 0.05: \n",
    "        overall_sentiment = \"neg\" \n",
    "    else:\n",
    "        overall_sentiment = \"neu\" \n",
    "    sentiment_dict[\"Overall sentiment\"] = overall_sentiment\n",
    "    return sentiment_dict "
   ]
  },
  {
   "cell_type": "code",
   "execution_count": 288,
   "metadata": {},
   "outputs": [],
   "source": [
    "sentiment_object = SentimentIntensityAnalyzer()"
   ]
  },
  {
   "cell_type": "code",
   "execution_count": 289,
   "metadata": {},
   "outputs": [
    {
     "data": {
      "text/plain": [
       "{'neg': 0.145,\n",
       " 'neu': 0.713,\n",
       " 'pos': 0.142,\n",
       " 'compound': -0.9065,\n",
       " 'Overall sentiment': 'neg'}"
      ]
     },
     "execution_count": 289,
     "metadata": {},
     "output_type": "execute_result"
    }
   ],
   "source": [
    "sentiment_analyzer(sentiment_object, austen_sentiments)"
   ]
  },
  {
   "cell_type": "markdown",
   "metadata": {},
   "source": [
    "**Intepretation**\n",
    "\n",
    "Neg: 0.145.\n",
    "The proportion of negative words in Austen is 14.5%, suggesting a moderate amount of negative sentiment.\n",
    "\n",
    "Neu: 0.713. \n",
    "The proportion of neutral words in the text is 71.3%. Thus, it seems a large portion of Austen's text is neutral. \n",
    "\n",
    "Pos: 0.142.\n",
    "The proportion of positive words in the text is 14.2%, suggesting a medium amount of positive sentiment.\n",
    "\n",
    "Compound: -0.9065: \n",
    "This score is -0.9065, indicating a strongly negative sentiment.\n",
    "\n",
    "Overall the sentiment of Austen's texts is negative. I am quite surprised by this result. Austen's books in general are not books I would label as \"negative\" due to the nature of the stories--they all have realistic, witty, sometimes sorrowful, but overall triumphant female leads. Thus, I would have labeled Austen's works as positive or neutral. However, I suspect that since Austen's works largely capture all the too-real aspects of humanity from the good, the bad, and the ugly, then that could lead to an overall negative sentiment score. "
   ]
  },
  {
   "cell_type": "code",
   "execution_count": 290,
   "metadata": {},
   "outputs": [],
   "source": [
    "radcliffe_sentiments = remove_stopwords(radcliffe_complete, lower_stop_radcliffe)"
   ]
  },
  {
   "cell_type": "code",
   "execution_count": 291,
   "metadata": {},
   "outputs": [
    {
     "data": {
      "text/plain": [
       "{'neg': 0.118,\n",
       " 'neu': 0.773,\n",
       " 'pos': 0.109,\n",
       " 'compound': -0.9996,\n",
       " 'Overall sentiment': 'neg'}"
      ]
     },
     "execution_count": 291,
     "metadata": {},
     "output_type": "execute_result"
    }
   ],
   "source": [
    "sentiment_analyzer(sentiment_object, radcliffe_sentiments)"
   ]
  },
  {
   "cell_type": "markdown",
   "metadata": {},
   "source": [
    "**Interpretation**\n",
    "\n",
    "Neg: 0.118.\n",
    "The proportion of negative words in Austen is 11.8%, suggesting a moderate amount of negative sentiment.\n",
    "\n",
    "Neu: 0.773. \n",
    "The proportion of neutral words in the text is 77.3%. Thus, it seems a large portion of Austen's text is neutral. \n",
    "\n",
    "Pos: 0.109.\n",
    "The proportion of positive words in the text is 10.9%, suggesting a medium amount of positive sentiment.\n",
    "\n",
    "Compound: -0.996: \n",
    "This score is -0.996, indicating a strongly negative sentiment.\n",
    "\n",
    "I am less surprised by this score for Radcliffe's works. Since gothic novels are more characterized by dramatic, tragic events then I would expect Radcliffe's works to have an overall negative sentiment. After all, Ann Radcliffe is famous for \"terrifying English private imaginations\" (http://www.jstor.org/stable/29533356). "
   ]
  },
  {
   "cell_type": "markdown",
   "metadata": {},
   "source": [
    "**Further discussion on Radcliffe and Austen sentiment scores**\n",
    "\n",
    "Overall, I am surprised that Radcliffe and Austen's sentiment scores are so similar. Granted, both Austen's \"positive\" score and \"negative\" score is slightly higher than Radcliffe's. And I expected the larger neutral score since in accordance with the frequent words found in the Tfidf section earlier, a lot of the text in Radcliffe and Austen's works is likely more neutral. Still, give that Radcliffe's works is characterized more by terrifying descriptions and passionate language, I would have also expected higher scores for the amount of positive and negative sentiment. I haven't read Radcliffe's works myself, thus I suspect some close reading of Radcliffe might explain the sentiments observed better. "
   ]
  },
  {
   "cell_type": "markdown",
   "metadata": {},
   "source": [
    "### LDA and CountVectorizer() for Austen"
   ]
  },
  {
   "cell_type": "markdown",
   "metadata": {},
   "source": [
    "The next step was to try applying LDA to see what are the topics present in Austen and Radcliffe's works. I chose to apply this technique to the Austen corpus and Radcliffe corpus separately in order to see what were the individaul topics and whether there appeared to be any similar ones. "
   ]
  },
  {
   "cell_type": "code",
   "execution_count": 292,
   "metadata": {},
   "outputs": [
    {
     "name": "stderr",
     "output_type": "stream",
     "text": [
      "/Users/bethkam/opt/anaconda3/lib/python3.9/site-packages/sklearn/feature_extraction/text.py:396: UserWarning: Your stop_words may be inconsistent with your preprocessing. Tokenizing the stop words generated tokens ['add', 'admiration', 'affected', 'alas', 'almane', 'appear', 'appeared', 'behind', 'compliment', 'consciousness', 'detail', 'easily', 'easy', 'go', 'gone', 'greater', 'happy', 'health', 'indignantly', 'infatuation', 'jealousy', 'judge', 'kindness', 'knew', 'known', 'large', 'learn', 'letter', 'mare', 'mean', 'men', 'methodical', 'mine', 'miserable', 'moment', 'motive', 'nobody', 'oh', 'passed', 'plan', 'propriety', 'prosperous', 'quickly', 'ready', 'return', 'right', 'rise', 'sentence', 'sight', 'sir', 'sufficient', 'together', 'understanding', 'upon', 'windows', 'women', 'worse', 'yes'] not in stop_words.\n",
      "  warnings.warn(\n"
     ]
    },
    {
     "name": "stdout",
     "output_type": "stream",
     "text": [
      "(6, 5033)\n"
     ]
    }
   ],
   "source": [
    "#LDA and CountVectorizer code is repurposed from INFO 6350 homework, Fa '23, Matthew Wilkens\n",
    "austen_vectorizer_count = CountVectorizer( # Token counts, not normalized (sklearn normalizes later)\n",
    "    input = 'content',\n",
    "    encoding = 'utf-8',\n",
    "    strip_accents = 'unicode',\n",
    "    stop_words= lower_stop_austen, # uncomment to remove fixed stops from input\n",
    "    lowercase = True,\n",
    "    min_df = 0.001, # Remember that we've chunked by paragraph\n",
    "    max_df = 0.25   \n",
    ")\n",
    "\n",
    "X_austen = austen_vectorizer_count.fit_transform(austen_complete)\n",
    "print(X_austen.shape)"
   ]
  },
  {
   "cell_type": "code",
   "execution_count": 293,
   "metadata": {},
   "outputs": [
    {
     "name": "stdout",
     "output_type": "stream",
     "text": [
      "iteration: 1 of max_iter: 10\n",
      "iteration: 2 of max_iter: 10\n",
      "iteration: 3 of max_iter: 10\n",
      "iteration: 4 of max_iter: 10\n",
      "iteration: 5 of max_iter: 10\n",
      "iteration: 6 of max_iter: 10\n",
      "iteration: 7 of max_iter: 10\n",
      "iteration: 8 of max_iter: 10\n",
      "iteration: 9 of max_iter: 10\n",
      "iteration: 10 of max_iter: 10\n"
     ]
    },
    {
     "data": {
      "text/plain": [
       "LatentDirichletAllocation(evaluate_every=0, n_components=6, n_jobs=-1,\n",
       "                          verbose=1)"
      ]
     },
     "execution_count": 293,
     "metadata": {},
     "output_type": "execute_result"
    }
   ],
   "source": [
    "lda = LatentDirichletAllocation(\n",
    "    n_components=6, #Number of topics to find\n",
    "    n_jobs=-1,       #Use all CPU cores\n",
    "    verbose=1,       #Print progress\n",
    "    max_iter=10,     # Might want more in production work\n",
    "    evaluate_every=0 # Set >=1 to test for convergence (slow, but can stop iteration)\n",
    ")\n",
    " \n",
    "lda.fit(X_austen)"
   ]
  },
  {
   "cell_type": "code",
   "execution_count": 294,
   "metadata": {},
   "outputs": [],
   "source": [
    "# Print top words per topic\n",
    "def print_top_words(model, feature_names, n_top_words, hide_stops=False):\n",
    "    if hide_stops:\n",
    "        from sklearn.feature_extraction.text import ENGLISH_STOP_WORDS\n",
    "\n",
    "    for topic_idx, topic in enumerate(model.components_):\n",
    "        message = f\"Topic {topic_idx: >2}: \"\n",
    "        top_words_idx = topic.argsort()\n",
    "        if not hide_stops:\n",
    "            top_words = [feature_names[i]\n",
    "                         for i in top_words_idx[:-n_top_words - 1:-1]]\n",
    "        else:\n",
    "            top_words = []\n",
    "            i = 1\n",
    "            while len(top_words) < n_top_words:\n",
    "                if feature_names[top_words_idx[-i]] not in ENGLISH_STOP_WORDS:\n",
    "                    top_words.append(feature_names[top_words_idx[-i]])\n",
    "                i += 1\n",
    "        message += \" \".join(top_words)    \n",
    "        print(message)\n",
    "    print()"
   ]
  },
  {
   "cell_type": "code",
   "execution_count": 295,
   "metadata": {},
   "outputs": [
    {
     "name": "stdout",
     "output_type": "stream",
     "text": [
      "Topic  0: uppercross henrietta lyme norland musgroves cleveland\n",
      "Topic  1: hertfordshire georgiana shire gardiners lambton nt\n",
      "Topic  2: contributes imitator strangelooking strained hothouse hothouses\n",
      "Topic  3: contributes imitator strangelooking strained hothouse hothouses\n",
      "Topic  4: necklace pumproom udolpho rehearsal crawfords lovers\n",
      "Topic  5: hartfield surprized campbells charade grandmama martins\n",
      "\n"
     ]
    }
   ],
   "source": [
    "print_top_words(lda, austen_vectorizer_count.get_feature_names_out(), n_top_words=6, hide_stops=False)"
   ]
  },
  {
   "cell_type": "code",
   "execution_count": 296,
   "metadata": {},
   "outputs": [],
   "source": [
    "def display_topics(model, feature_names, k_top_words, title, n_topics=10):\n",
    "    fig, axes = plt.subplots(round(n_topics/5), 3, figsize=(30, 15), sharex=True)\n",
    "    axes = axes.flatten()\n",
    "    for topic_idx, topic in enumerate(model.components_):\n",
    "        top_features_ind = topic.argsort()[-k_top_words:]\n",
    "        top_features = feature_names[top_features_ind]\n",
    "        weights = topic[top_features_ind]\n",
    "\n",
    "        ax = axes[topic_idx]\n",
    "        ax.barh(top_features, weights, height=0.7)\n",
    "        ax.set_title(f\"Topic {topic_idx +1}\", fontdict={\"fontsize\": 30})\n",
    "        ax.tick_params(axis=\"both\", which=\"major\", labelsize=20)\n",
    "        for i in \"top right left\".split():\n",
    "            ax.spines[i].set_visible(False)\n",
    "        fig.suptitle(title, fontsize=40)\n",
    "\n",
    "    plt.subplots_adjust(top=0.90, bottom=0.05, wspace=0.90, hspace=0.3)\n",
    "    plt.tight_layout()\n",
    "    plt.show()"
   ]
  },
  {
   "cell_type": "code",
   "execution_count": 297,
   "metadata": {},
   "outputs": [
    {
     "data": {
      "image/png": "[encoded data removed]",
      "text/plain": [
       "<Figure size 2160x1080 with 6 Axes>"
      ]
     },
     "metadata": {
      "needs_background": "light"
     },
     "output_type": "display_data"
    }
   ],
   "source": [
    "display_topics(lda, austen_vectorizer_count.get_feature_names_out(), 6, \"LDA on Austen's novels\", 10)"
   ]
  },
  {
   "cell_type": "markdown",
   "metadata": {},
   "source": [
    "It the topics characterizing Austen's novels are focused more on locations such as \"Hertfordshire\" and \"pumproom.\" These locations are places where characters frequent. Again, Austen's novels largely center on characters interactions, and each interaction typically does take place in some certain location. For example, *Northanger Abbey* has a lot of scenes taking place in the pumproom. \n",
    "\n",
    "From the LDA results, though I can also see some confusion between character names and location names, thus perhaps the name removal from earlier was not able to purify the text entirely. Another point of interest is that I see quite a few words that are specifically from *Emma* and *Mansfield Park.* These two novels are the longest and comprise the most information, thus it's possible the model is slightly biased towards those two books. However, I do see some items in the topic list that reflect *Northanger Abbey* such as the direct mention of \"udolpho\" which is the name of Radcliffe's novel that is frequnely mentioned in the story. \n",
    "\n",
    "Overall, the topics chosen do seem to be reflective of Austen's work."
   ]
  },
  {
   "cell_type": "markdown",
   "metadata": {},
   "source": [
    "### LDA and CountVectorizer() for Radcliffe"
   ]
  },
  {
   "cell_type": "code",
   "execution_count": 300,
   "metadata": {},
   "outputs": [
    {
     "name": "stdout",
     "output_type": "stream",
     "text": [
      "(6, 11496)\n"
     ]
    }
   ],
   "source": [
    "radcliffe_vectorizer_count = CountVectorizer( # Token counts, not normalized (sklearn normalizes later)\n",
    "    input = 'content',\n",
    "    encoding = 'utf-8',\n",
    "    strip_accents = 'unicode',\n",
    "    stop_words= lower_stop_radcliffe, # uncomment to remove fixed stops from input\n",
    "    lowercase = True,\n",
    "    min_df = 0.001, # Remember that we've chunked by paragraph\n",
    "    max_df = 0.25    # Ditto\n",
    ")\n",
    "\n",
    "X_radcliffe = radcliffe_vectorizer_count.fit_transform(radcliffe_complete)\n",
    "print(X_radcliffe.shape)"
   ]
  },
  {
   "cell_type": "code",
   "execution_count": 301,
   "metadata": {},
   "outputs": [
    {
     "name": "stdout",
     "output_type": "stream",
     "text": [
      "iteration: 1 of max_iter: 10\n",
      "iteration: 2 of max_iter: 10\n",
      "iteration: 3 of max_iter: 10\n",
      "iteration: 4 of max_iter: 10\n",
      "iteration: 5 of max_iter: 10\n",
      "iteration: 6 of max_iter: 10\n",
      "iteration: 7 of max_iter: 10\n",
      "iteration: 8 of max_iter: 10\n",
      "iteration: 9 of max_iter: 10\n",
      "iteration: 10 of max_iter: 10\n"
     ]
    },
    {
     "data": {
      "text/plain": [
       "LatentDirichletAllocation(evaluate_every=0, n_components=6, n_jobs=-1,\n",
       "                          verbose=1)"
      ]
     },
     "execution_count": 301,
     "metadata": {},
     "output_type": "execute_result"
    }
   ],
   "source": [
    "lda = LatentDirichletAllocation(\n",
    "    n_components=6, #Number of topics to find\n",
    "    n_jobs=-1,       #Use all CPU cores\n",
    "    verbose=1,       #Print progress\n",
    "    max_iter=10,     # Might want more in production work\n",
    "    evaluate_every=0 # Set >=1 to test for convergence (slow, but can stop iteration)\n",
    ")\n",
    " \n",
    "lda.fit(X_radcliffe)"
   ]
  },
  {
   "cell_type": "code",
   "execution_count": 302,
   "metadata": {},
   "outputs": [
    {
     "name": "stdout",
     "output_type": "stream",
     "text": [
      "Topic  0: elector dutch cologne holland antient states\n",
      "Topic  1: edric pannel challenge ardor barons santmorin\n",
      "Topic  2: ludovico amselle dorothee vallee venice udolpho\n",
      "Topic  3: 01 annihilates undone despite palpitation pander\n",
      "Topic  4: sicily favorite palermo elopement calabria marentino\n",
      "Topic  5: marchese ellenas sche nicola inquisition official\n",
      "\n"
     ]
    }
   ],
   "source": [
    "print_top_words(lda, radcliffe_vectorizer_count.get_feature_names_out(), n_top_words=6, hide_stops=False)"
   ]
  },
  {
   "cell_type": "code",
   "execution_count": 303,
   "metadata": {},
   "outputs": [
    {
     "data": {
      "image/png": "[encoded data removed]",
      "text/plain": [
       "<Figure size 2160x1080 with 6 Axes>"
      ]
     },
     "metadata": {
      "needs_background": "light"
     },
     "output_type": "display_data"
    }
   ],
   "source": [
    "display_topics(lda, radcliffe_vectorizer_count.get_feature_names_out(), 6, \"LDA on Radcliffe's novels\", 10)"
   ]
  },
  {
   "cell_type": "markdown",
   "metadata": {},
   "source": [
    "**Intepretation**\n",
    "\n",
    "I think the same problem occurred here were there is likely some confusion between character and location names which is why some of the topics are being represented by words that are potentially character names. Aside from that, the words representing the topics here are also similar to Austen's in the sense that locations  such as \"sicily\" and \"venice\" are also present. Again, I am not really familiar with Radcliffe's works, but words such as \"elopment\" are also expected in gothich writing. Thus the topics chosen seem representative of Radcliffe. "
   ]
  },
  {
   "cell_type": "markdown",
   "metadata": {},
   "source": [
    "**Comparison of Austen and Radcliffe topics**\n",
    "\n",
    "While the topics for Austen and Radcliffe appear to be different, both are actually focusing on similar things---locations and specific characters (despite my attempt to remove character names). I think this indicates how Austen and Radcliffe's works are likely both people-centered and event-centered (with each event usually being marked by a specific location). This is surprisingly true of Austen's works since Austen's works all focus on ideas that are in relation to one's character. For Radcliffe, more proper names are present in the topics, suggesting that Radcliffe's work is possibly even more location-centric or possibly character-centric. I find this fascinating because I would have expected Radcliffe's work to be more location or event-centric and less character-centric. I also expected Austen's work to be largely character-centric. However, there is a definite overlay between the sets of topics for my two authors."
   ]
  },
  {
   "cell_type": "markdown",
   "metadata": {},
   "source": [
    "### Euclidean and Cosine Distances "
   ]
  },
  {
   "cell_type": "markdown",
   "metadata": {},
   "source": [
    "Finally, some comparison was needed to be done between Austen and Radcliffe directly. I decided to calculate the Euclidean and Cosine distances between Austen and Radcliffe's works. "
   ]
  },
  {
   "cell_type": "code",
   "execution_count": 304,
   "metadata": {},
   "outputs": [],
   "source": [
    "# Merge Austen and Radcliffes novels into one large corpus\n",
    "austen_radcliffe = austen_complete + radcliffe_complete"
   ]
  },
  {
   "cell_type": "code",
   "execution_count": 305,
   "metadata": {},
   "outputs": [],
   "source": [
    "# print(austen_radcliffe[10])"
   ]
  },
  {
   "cell_type": "code",
   "execution_count": 306,
   "metadata": {},
   "outputs": [
    {
     "name": "stdout",
     "output_type": "stream",
     "text": [
      "\n",
      "Euclidean distances\n",
      "[[    0.    3823.06  4195.33  7220.61  2916.17  6609.76  8091.55 10698.66\n",
      "   6071.35 18318.36  8413.14  9699.93]\n",
      " [ 3823.06     0.    1910.73  4221.07  4381.72  3674.57  5200.65 10410.52\n",
      "   5655.3  20221.78  9209.2   6594.25]\n",
      " [ 4195.33  1910.73     0.    4018.71  4573.42  3574.05  5145.58 10564.71\n",
      "   5892.17 20480.13  9543.55  6471.84]\n",
      " [ 7220.61  4221.07  4018.71     0.    7824.74  1721.09  3370.05 11610.71\n",
      "   7930.17 23437.37 11964.37  3281.93]\n",
      " [ 2916.17  4381.72  4573.42  7824.74     0.    7177.78  8165.35  9800.88\n",
      "   5126.43 16996.32  7291.2  10078.15]\n",
      " [ 6609.76  3674.57  3574.05  1721.09  7177.78     0.    3365.73 11284.26\n",
      "   7399.35 22855.1  11364.72  3724.9 ]\n",
      " [ 8091.55  5200.65  5145.58  3370.05  8165.35  3365.73     0.    9644.37\n",
      "   6507.65 22155.43 10495.66  2691.69]\n",
      " [10698.66 10410.52 10564.71 11610.71  9800.88 11284.26  9644.37     0.\n",
      "   7314.54 16208.71  6954.4  11676.93]\n",
      " [ 6071.35  5655.3   5892.17  7930.17  5126.43  7399.35  6507.65  7314.54\n",
      "      0.   16241.9   5323.54  8902.11]\n",
      " [18318.36 20221.78 20480.13 23437.37 16996.32 22855.1  22155.43 16208.71\n",
      "  16241.9      0.   12793.62 24639.32]\n",
      " [ 8413.14  9209.2   9543.55 11964.37  7291.2  11364.72 10495.66  6954.4\n",
      "   5323.54 12793.62     0.   12828.46]\n",
      " [ 9699.93  6594.25  6471.84  3281.93 10078.15  3724.9   2691.69 11676.93\n",
      "   8902.11 24639.32 12828.46     0.  ]]\n",
      "\n",
      "Cosine distances\n",
      "[[0.   0.02 0.03 0.03 0.02 0.03 0.15 0.23 0.1  0.09 0.11 0.18]\n",
      " [0.02 0.   0.02 0.02 0.02 0.02 0.12 0.21 0.07 0.07 0.08 0.14]\n",
      " [0.03 0.02 0.   0.02 0.02 0.03 0.12 0.21 0.08 0.08 0.09 0.15]\n",
      " [0.03 0.02 0.02 0.   0.02 0.02 0.1  0.17 0.06 0.06 0.07 0.12]\n",
      " [0.02 0.02 0.02 0.02 0.   0.02 0.11 0.19 0.07 0.06 0.08 0.13]\n",
      " [0.03 0.02 0.03 0.02 0.02 0.   0.1  0.17 0.06 0.06 0.07 0.12]\n",
      " [0.15 0.12 0.12 0.1  0.11 0.1  0.   0.06 0.02 0.03 0.03 0.01]\n",
      " [0.23 0.21 0.21 0.17 0.19 0.17 0.06 0.   0.1  0.09 0.08 0.05]\n",
      " [0.1  0.07 0.08 0.06 0.07 0.06 0.02 0.1  0.   0.02 0.02 0.04]\n",
      " [0.09 0.07 0.08 0.06 0.06 0.06 0.03 0.09 0.02 0.   0.02 0.05]\n",
      " [0.11 0.08 0.09 0.07 0.08 0.07 0.03 0.08 0.02 0.02 0.   0.03]\n",
      " [0.18 0.14 0.15 0.12 0.13 0.12 0.01 0.05 0.04 0.05 0.03 0.  ]]\n"
     ]
    }
   ],
   "source": [
    "vectorizer = CountVectorizer()\n",
    "x = vectorizer.fit_transform(austen_radcliffe)\n",
    "print(\"\\nEuclidean distances\")\n",
    "print(np.round(euclidean_distances(x),2))\n",
    "\n",
    "print(\"\\nCosine distances\")\n",
    "print(np.round(cosine_distances(x),2))"
   ]
  },
  {
   "cell_type": "markdown",
   "metadata": {},
   "source": [
    "Note: our matrices feature all 12 books. \n",
    "\n",
    "The order of books for Austen in the matrix is as such: \n",
    "- (1) Emma\n",
    "- (2) Pride and Prejudice\n",
    "- (3) Sense and Sensibilty\n",
    "- (4) Northanger Abbey\n",
    "- (5) Mansfield Park\n",
    "- (6) Persuasion. \n",
    "\n",
    "The order of books for Radcliffe in the matrix is as such: \n",
    "- (7) A Sicilian Romance \n",
    "- (8) A Journey Made in the Summer of 1794 \n",
    "- (9) The Romance of the Forest \n",
    "- (10) The Mysteries of Udolpho \n",
    "- (11) The Italian\n",
    "- (12) The Castles of Athlin and Dunbayne"
   ]
  },
  {
   "cell_type": "markdown",
   "metadata": {},
   "source": [
    "**Interpretation of Euclidean Distances**\n",
    "\n",
    "Since we are comparing Austen to Radcliffe, I will only discuss the distance starting from where Austen and Radcliffe are represented. \n",
    "\n",
    "The fourth column represents *Northanger Abbey*. Unexpectedly, Northanger Abbey appears to have one of the largest Euclidean distances from *The Mysteries of Udolpho* (23437.37) and *The Italian* (11964.37). I am quite surprised by this result given that *Northanger Abbey* frequently mentions Radcliffe's *The Mysteries of Udolpho* and *Northanger Abbey* arguably would be the closest to Radcliffe's writing. \n",
    "\n",
    "The Austen novel that has the largest Euclidean distances as a whole from Radcliffe is *Emma*. I think this is reasonable given that *Emma* is the most different from all of Austen's others novels. Thus, if Austen's writing as a whole does have parallels to Radcliffe's writing, then it's not surprising that *Emma* would stand out more because it already stands out from Austen's more typical style of novel. \n",
    "\n",
    "Both *Pride and Prejudice* and *Sense and Sensibility* have more similar Euclidean distances from Radcliffe's novels. I consider the two works to be more similar, thus it would make sense for them to have similar distances from Radcliffe. These distances were more moderate--some large but not the largest.  \n",
    "\n",
    "*Persuasion* also has a large Euclidean distance from *The Mysteries of Udolpho* (22855.1). Without a closer reading of this book, I'm not 100% sure of this meaing, but I do know that Persuasion most definitely has some \"tragic love\" kind of elements to it, thus I would expected this book to have smaller Euclidean distances from Radcliffe. \n",
    "\n",
    "Finally, *Mansfield Park* is considered to be the most \"serious\" of Austen's works. Overall, the Euclidean distances for Mansfield Park are smaller, with the exception of the large Euclidean distance for *The Mysteries of Udolpho* (16996.32) and *The Italian* (10078.15). Overall, I would have expected *Mansfield Park* to have large Euclidean distances from Radcliffe's works. Perhaps, despite the more \"moralistic\" nature of *Mansfield Park*, the tragic events that do take place in Mansfield Park are enough to shorten the distances between itself and Radcliffe. "
   ]
  },
  {
   "cell_type": "markdown",
   "metadata": {},
   "source": [
    "**Interpretation of Cosine Distances**\n",
    "\n",
    "The Cosine distances are rather small across the board and closer to 0, indicating greater similarity between Austen and Radcliffe's works. \n",
    "\n",
    "Both *Northanger Abbey* and *Persuasion* have the smallest Cosine distances, thus they are the closest to Radcliffe's works. This is to be expected of *Northanger Abbey* since this novel has the most gothic elements. As for *Persuasion*, although the protagonist, Anne Elliot, is quite different from my knowledge of gothic female protagonists, *Persuasion* is largely characterized on a more tragic love, thus the small Cosine distances from Radcliffe are not the most surprising. \n",
    "\n",
    "Similarly to the Euclidean distance analysis, *Emma* has the largest Cosine distances, indicating greater dissimilarity between this novel and Radcliffe's works. Again, this is to be expected because *Emma* is the most atypical work of Austen's and would stand out more in general.\n",
    "\n",
    "Again, *Pride and Prejudice* and *Sense and Sensibility* have the same Cosine distances with a mix of larger and smaller values. Similar to before, these two works are closer to one another in writing, thus I would expect them to have the same distances from Radcliffe's works."
   ]
  },
  {
   "cell_type": "markdown",
   "metadata": {},
   "source": [
    "**Comparison of Euclidean and Cosine Values**\n",
    "\n",
    "The analyses for the Euclidean and Cosine distances align except for one point: *Northanger Abbey* unexpectedly differs largely from two gothic novels for Euclidean and is similar in regards to Cosine. This seems rather contradictory since *Northanger Abbey* is the novel that will parallel a gothic work more than any other novel. It is also odd that *Northanger Abbey* had such a large Euclidean distance from *The Mysteries of Udolpho* and the novel that is mentioned frequently in *Northanger Abbey.* \n",
    "\n",
    "However, if the Euclidean distance between the Northanger and Udolpho vectors is large, that may mean they differ significantly in terms of words used as well as word frequency. \n",
    "\n",
    "In addition, if the cosine distance is small, then that means our two novels share a similar word distribution despites potential differences in length or word count. \n",
    "\n",
    "This makes sense because Udolpho is actually Radcliffe's longest work while Northanger Abbey is Austen's shortest one. Thus, the two books are in fact similar with their length differences accounting for the large Euclidean distances. "
   ]
  },
  {
   "cell_type": "markdown",
   "metadata": {},
   "source": [
    "# Discussion and conclusions"
   ]
  },
  {
   "cell_type": "markdown",
   "metadata": {},
   "source": [
    "In conclusion, Radcliffe and Austen's works share quite a few similarities due to their overlapping ideas reflected in their features and topics present as well as the calculation of vector distances. \n",
    "\n",
    "I did not expect this. I am extremely familiar with Austen's works and always felt her works were more \"down-to-earth\" writing than a highly romanticized and dramatized gothic novel. However, after seeing the comparisions in features, most common words, LDA topics, and distances, it is reasonable to conclude that the structure of Austen and Radcliffe's works share many similarities such as a focus on location and are rather people-centric. \n",
    "\n",
    "In addition, Austen's works focus largely on the feelings and emotions of her characters--something that I would expect to see in gothic writing as well. Thus, perhaps the original literary paper I read earlier by Kim Wheatly does seem to be true--Austen is a gothic novelist in the sense that her expressions of characters are reflective of the true human nature and make her works even more realistic. After all, humans in real life can be quite dramatic, thus why can that not be reflected in writing that captures humanity as masterfully as Austen?\n",
    "\n",
    "This also dispells some of my previous preconceptions that gothic novel tragedies and their female heroes are exaggeraged and ridiculous. Perhaps these very real emotions expressed by the characters and events are quite representative of true human nature. And thus, these portrayls of emotions and expressions, especially the feminine ones, are not necessarily negative nor excessive.\n",
    "\n",
    "**Future Recommendations**\n",
    "\n",
    "First, the dataset was not quite as clean as I would have liked since there was some confusion between character names and location names. \n",
    "\n",
    "Given how character and event-centric Austen and Radcliffe's works are, I think it would be interesting to explore similarities between character vectors or possibly locations. In addition, Radcliffe's works are lauded for her focus on scenery. Austen's *Mansfield Park* has large descriptions of scenery, thus perhaps a further study that focuses more on *Mansfield Park* and Radcliffe would also be a worthy endeavour. Also, if I were to take my analysis a step further, I would possibly look into part-of-speech tagging in order to look more into specific similarites in grammatical structure and the semantic meaning of Austen and Radcliffe's writing. Dialogue is a large feature of Austen's work, thus focusing more on the dialogue of Austen and Radcliffe would have also been interesting. \n",
    "\n",
    "I am still somewhat perplexed by the sentiment scoring of Austen and Radcliffe. I believe further close-reading of both author's works (again, I have never read Radcliffe) would be useful to dive more into the sentiments of the two novelists. \n",
    "\n",
    "Finally, comparing Austen to more authors than just Radcliffe would also be useful to see how broadly similar Austen's writing is similar to the gothic novelists of her day. It is also important to note that since Austen lived around the same time as these authors and did enjoy their writing, some of her own writing style would naturally parallel other authors of the regency era."
   ]
  },
  {
   "cell_type": "code",
   "execution_count": null,
   "metadata": {},
   "outputs": [],
   "source": []
  }
 ],
 "metadata": {
  "kernelspec": {
   "display_name": "Python 3 (ipykernel)",
   "language": "python",
   "name": "python3"
  },
  "language_info": {
   "codemirror_mode": {
    "name": "ipython",
    "version": 3
   },
   "file_extension": ".py",
   "mimetype": "text/x-python",
   "name": "python",
   "nbconvert_exporter": "python",
   "pygments_lexer": "ipython3",
   "version": "3.10.13"
  }
 },
 "nbformat": 4,
 "nbformat_minor": 4
}
